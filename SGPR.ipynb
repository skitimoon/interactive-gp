{
 "cells": [
  {
   "cell_type": "code",
   "execution_count": null,
   "id": "mental-warning",
   "metadata": {},
   "outputs": [],
   "source": [
    "import ipywidgets as widgets\n",
    "from ipywidgets import Layout\n",
    "import matplotlib.pyplot as plt\n",
    "import numpy as np\n",
    "from scipy.linalg import solve_triangular\n",
    "rng = np.random.default_rng(8808206249012891)"
   ]
  },
  {
   "cell_type": "markdown",
   "id": "advisory-portable",
   "metadata": {},
   "source": [
    "## Sparse Gaussian Processes for Regression"
   ]
  },
  {
   "cell_type": "markdown",
   "id": "medium-russia",
   "metadata": {},
   "source": [
    "$$ p(\\mathbf{f}, \\mathbf{u}) = \n",
    "        \\mathcal{N}\\left( \\begin{bmatrix} \\mathbf{f} \\\\ \\mathbf{u} \\end{bmatrix} \\middle|\n",
    "        \\mathbf{0}, \\begin{bmatrix} \\mathbf{K_{\\mathbf{f}\\mathbf{f}}} & \\mathbf{K_{\\mathbf{f}\\mathbf{u}}} \\\\ \\mathbf{K_{\\mathbf{u}\\mathbf{f}}} & \\mathbf{K_{\\mathbf{u}\\mathbf{u}}} \\end{bmatrix} \\right) $$\n",
    "\n",
    "\\begin{align}\n",
    "    p( \\mathbf{f}, \\mathbf{u})\n",
    "        &\\approx q(\\mathbf{f}, \\mathbf{u}) \\\\\n",
    "        &= p(\\mathbf{f} | \\mathbf{u}) q(\\mathbf{u}) \\\\\n",
    "        &= \\mathcal{N}( \\mathbf{f} | \\mathbf{K}_{\\mathbf{f}\\mathbf{u}} \\mathbf{K}_{\\mathbf{u}\\mathbf{u}}^{-1} \\mathbf{u}, \\mathbf{K}_{\\mathbf{f}\\mathbf{f}}^{-1} - \\mathbf{K}_{\\mathbf{f}\\mathbf{u}} \\mathbf{K}_{\\mathbf{u}\\mathbf{u}}^{-1} \\mathbf{K}_{\\mathbf{u}\\mathbf{f}} )\n",
    "            \\mathcal{N}(\\mathbf{u} | \\boldsymbol{\\mu}, \\mathbf{S}) \\\\\n",
    "\\end{align}"
   ]
  },
  {
   "cell_type": "markdown",
   "id": "naughty-spare",
   "metadata": {},
   "source": [
    "### Lower Bound\n",
    "\n",
    "\\begin{align}\n",
    "    \\log (\\mathbf{y})\n",
    "        &= \\log \\int p(\\mathbf{y} | \\mathbf{f}) p(\\mathbf{f} | \\mathbf{u}) p(\\mathbf{u}) \\;\\mathrm{d} \\mathbf{f} \\;\\mathrm{d} \\mathbf{u} \\\\\n",
    "        &\\geq \\int q(\\mathbf{f}, \\mathbf{u}) \\log \\frac{p(\\mathbf{y} | \\mathbf{f}) p(\\mathbf{f} | \\mathbf{u}) p(\\mathbf{u})}{q(\\mathbf{f}, \\mathbf{u})} \\;\\mathrm{d} \\mathbf{f} \\;\\mathrm{d} \\mathbf{u} \\\\\n",
    "        &= \\int q(\\mathbf{f}, \\mathbf{u}) \\log \\frac{p(\\mathbf{y} | \\mathbf{f}) p(\\mathbf{f} | \\mathbf{u}) p(\\mathbf{u})}{p(\\mathbf{f} | \\mathbf{u}) q(\\mathbf{u})} \\;\\mathrm{d} \\mathbf{f} \\;\\mathrm{d} \\mathbf{u} \\\\\n",
    "        &= \\int p(\\mathbf{f} | \\mathbf{u}) q(\\mathbf{u}) \\log p(\\mathbf{y} | \\mathbf{f}) \\;\\mathrm{d} \\mathbf{f} \\;\\mathrm{d} \\mathbf{u} + \\int q(\\mathbf{f}, \\mathbf{u}) \\log \\frac{p(\\mathbf{u})}{q(\\mathbf{u})} \\;\\mathrm{d} \\mathbf{f} \\;\\mathrm{d} \\mathbf{u} \\\\\n",
    "        &= \\int q(\\mathbf{f}) \\log p(\\mathbf{y} | \\mathbf{f}) \\;\\mathrm{d} \\mathbf{f} + \\int q(\\mathbf{u}) \\log \\frac{p(\\mathbf{u})}{q(\\mathbf{u})} \\;\\mathrm{d} \\mathbf{f} \\;\\mathrm{d} \\mathbf{u} \\\\\n",
    "        &= \\mathbb{E}_{q(\\mathbf{f})} \\log p(\\mathbf{y} | \\mathbf{f})  - \\mathbb{KL}(p(\\mathbf{u}) \\parallel q(\\mathbf{u}))\n",
    "\\end{align}"
   ]
  },
  {
   "cell_type": "code",
   "execution_count": null,
   "id": "varied-frequency",
   "metadata": {},
   "outputs": [],
   "source": [
    "def rbf(x1, x2, variance=1.0, lengthscale=1.0):\n",
    "    return variance * np.exp(-0.5 * ((x1 - x2.T) / lengthscale) ** 2)"
   ]
  },
  {
   "cell_type": "code",
   "execution_count": null,
   "id": "endless-validity",
   "metadata": {},
   "outputs": [],
   "source": [
    "N = 100\n",
    "X = np.sort(rng.uniform(-5, 5, N))[:, None]\n",
    "K = rbf(X, X)\n",
    "F = rng.multivariate_normal(np.zeros(N), K)\n",
    "Y = rng.multivariate_normal(F, 0.02 * np.eye(N))[:, None]"
   ]
  },
  {
   "cell_type": "code",
   "execution_count": null,
   "id": "interior-supplement",
   "metadata": {
    "tags": []
   },
   "outputs": [],
   "source": [
    "M = 4\n",
    "tril_idx = np.tril_indices(M)\n",
    "kernel_params = {\"variance\": widgets.FloatSlider(value=1, min=0.0001, max=3.0, step=0.01), \"lengthscale\": widgets.FloatSlider(value=1, min=0.0001, max=3.0, step=0.01)}\n",
    "Z_wg = [widgets.FloatSlider(value=i, min=-5.0, max=5.0, step=0.1) for i in np.linspace(-5, 5, M)]\n",
    "q_mu_wg = [widgets.FloatSlider(value=0, min=-5.0, max=5.0, step=0.1) for _ in range(M)]\n",
    "q_sqrt_wg = [widgets.BoundedFloatText(value=0, min=-5.0, max=5.0, step=0.1, layout=Layout(width='50px')) for i in range(M*(M+1)//2)]\n",
    "for i in np.cumsum(np.r_[0, 2:M + 1]):\n",
    "    q_sqrt_wg[i].value = 1.0\n",
    "args = {\n",
    "    **kernel_params,\n",
    "    **{\"noise_variance\": widgets.FloatSlider(value=1, min=0.0001, max=2.0, step=0.01)},\n",
    "    **{f\"Z[{i}]\": v for i, v in enumerate(Z_wg)},\n",
    "    **{f\"q_mu[{i}]\": v for i, v in enumerate(q_mu_wg)},\n",
    "    **{f\"q_sqrt[{i}]\": v for i, v in enumerate(q_sqrt_wg)}\n",
    "}\n",
    "q_sqrt_full_wg = np.full((M, M), widgets.Label(\"0\"))\n",
    "q_sqrt_full_wg[tril_idx] = q_sqrt_wg\n",
    "ui = widgets.VBox(\n",
    "    [\n",
    "        widgets.HBox([widgets.Label(r\"$\\sigma=$\"), kernel_params[\"variance\"], widgets.Label(r\"$l=$\"), kernel_params[\"lengthscale\"],\n",
    "                      widgets.Label(r\"$\\sigma_n=$\"),args[\"noise_variance\"]]),\n",
    "        widgets.HBox([widgets.Label(r\"$\\mathbf{Z}=$\"), widgets.VBox(Z_wg), widgets.Label(r\"$\\boldsymbol\\mu=$\"), widgets.VBox(q_mu_wg)]),\n",
    "        widgets.HBox([widgets.Label(r\"$\\mathbf{L}=$\"),\n",
    "                      widgets.GridBox(np.ravel(q_sqrt_full_wg).tolist(), layout=Layout(grid_template_columns=f\"repeat({M}, 50px)\", justify_items=\"center\")),\n",
    "                     ])\n",
    "    ],\n",
    "    layout=Layout(display=\"flex\", width=\"100%\")\n",
    ")\n",
    "\n",
    "N_test = 1000\n",
    "q_sqrt = np.zeros((M, M))\n",
    "X_new = np.linspace(-5, 5, num=N_test)[:, None]\n",
    "\n",
    "def plot_gp(**kwargs):\n",
    "    plt.figure(num=2, figsize=(16, 8))\n",
    "    plt.scatter(X, Y)\n",
    "    \n",
    "    # Variable Initialisation\n",
    "    variance = kwargs[\"variance\"]\n",
    "    lengthscale = kwargs[\"lengthscale\"]\n",
    "    noise_variance = kwargs[\"noise_variance\"]\n",
    "    Z = np.array([kwargs[f\"Z[{i}]\"] for i in range(M)])\n",
    "    order = np.argsort(Z)\n",
    "    Z = Z[order, None]\n",
    "    q_mu = np.array([kwargs[f\"q_mu[{i}]\"] for i in range(M)])[order, None]\n",
    "    q_sqrt_flat = [kwargs[f\"q_sqrt[{i}]\"] for i in range(M*(M+1)//2)]\n",
    "    q_sqrt[tril_idx] = q_sqrt_flat\n",
    "    q_sqrt[order][:, order]\n",
    "    q_diag = np.diag(q_sqrt)\n",
    "#     print(q_sqrt @ q_sqrt.T)\n",
    "    \n",
    "    # Inference\n",
    "    Kuu = rbf(Z, Z, variance=variance, lengthscale=lengthscale) + 1e-6 * np.eye(M)\n",
    "    Kuf = rbf(Z, X_new, variance=variance, lengthscale=lengthscale)\n",
    "    Kff = np.full(N_test, variance)\n",
    "    Lu = np.linalg.cholesky(Kuu)\n",
    "    A = solve_triangular(Lu, Kuf, lower=True)\n",
    "    fvar = Kff - np.sum(A ** 2, 0)\n",
    "    A = solve_triangular(Lu, A, trans=1, lower=True)\n",
    "    fmean = A.T @ q_mu\n",
    "    fvar += np.sum((q_sqrt.T @ A) ** 2, 0)\n",
    "    Y_pred = fmean, fvar + noise_variance\n",
    "    \n",
    "    # Visualisation\n",
    "    plt.errorbar(Z, q_mu, q_diag, fmt=\"none\")\n",
    "    plt.scatter(Z, q_mu)\n",
    "    plt.plot(X_new, Y_pred[0])\n",
    "    plt.fill_between(X_new.flat,\n",
    "                     Y_pred[0].flat - 2 * np.sqrt(Y_pred[1].flat),\n",
    "                     Y_pred[0].flat + 2 * np.sqrt(Y_pred[1].flat),\n",
    "                     alpha=0.2)\n",
    "    plt.xlim(-5.5, 5.5)\n",
    "    plt.ylim(-5, 5)\n",
    "    plt.show()\n",
    "    \n",
    "output = widgets.interactive_output(plot_gp, args)\n",
    "widgets.VBox([output, ui])"
   ]
  },
  {
   "cell_type": "code",
   "execution_count": null,
   "id": "aware-occasion",
   "metadata": {
    "tags": []
   },
   "outputs": [],
   "source": [
    "# import tensorflow as tf\n",
    "# from gpflow.models import SVGP\n",
    "# from gpflow.kernels import SquaredExponential as SE\n",
    "# from gpflow.likelihoods import Gaussian"
   ]
  },
  {
   "cell_type": "code",
   "execution_count": null,
   "id": "contemporary-reference",
   "metadata": {},
   "outputs": [],
   "source": [
    "# Z = np.linspace(-5, 5, M)[:, None]\n",
    "# model = SVGP(SE(), Gaussian(), Z, whiten=False)\n",
    "# model"
   ]
  },
  {
   "cell_type": "code",
   "execution_count": null,
   "id": "collect-charge",
   "metadata": {
    "tags": []
   },
   "outputs": [],
   "source": [
    "# objective = model.training_loss_closure((X, Y))\n",
    "# print(\"ELBO:\", objective().numpy())\n",
    "# adam = tf.optimizers.Adam(0.02)\n",
    "# maxiter = 500\n",
    "# for i in range(maxiter):\n",
    "#     adam.minimize(objective, model.trainable_variables)\n",
    "#     if i % (maxiter // 10) == 0:\n",
    "#         print(i, objective().numpy())"
   ]
  },
  {
   "cell_type": "code",
   "execution_count": null,
   "id": "restricted-router",
   "metadata": {},
   "outputs": [],
   "source": [
    "# model"
   ]
  },
  {
   "cell_type": "markdown",
   "id": "painful-processor",
   "metadata": {},
   "source": [
    "### Update Widgets"
   ]
  },
  {
   "cell_type": "code",
   "execution_count": null,
   "id": "mighty-excerpt",
   "metadata": {},
   "outputs": [],
   "source": [
    "# kernel_params[\"variance\"].value = model.kernel.variance.numpy().item()\n",
    "# kernel_params[\"lengthscale\"].value = model.kernel.lengthscales.numpy().item()\n",
    "\n",
    "# args[\"noise_variance\"].value = model.likelihood.variance.numpy().item()\n",
    "\n",
    "# for Zi, Zopt, q_mu_i, q_mu_opt in zip(Z_wg, model.inducing_variable.Z.numpy().flat, q_mu_wg, model.q_mu.numpy().flat):\n",
    "#     Zi.value = Zopt\n",
    "#     q_mu_i.value = q_mu_opt\n",
    "\n",
    "# for q_sqrt_i, q_sqrt_opt in zip(q_sqrt_wg, model.q_sqrt.numpy()[0][tril_idx]):\n",
    "#     q_sqrt_i.value = q_sqrt_opt"
   ]
  }
 ],
 "metadata": {
  "kernelspec": {
   "display_name": "Python 3",
   "language": "python",
   "name": "python3"
  },
  "language_info": {
   "codemirror_mode": {
    "name": "ipython",
    "version": 3
   },
   "file_extension": ".py",
   "mimetype": "text/x-python",
   "name": "python",
   "nbconvert_exporter": "python",
   "pygments_lexer": "ipython3",
   "version": "3.7.10"
  }
 },
 "nbformat": 4,
 "nbformat_minor": 5
}
